{
 "cells": [
  {
   "cell_type": "markdown",
   "metadata": {},
   "source": [
    "In this project you will implement two encryption/decryption systems, one using AES in CBC mode and another using AES in counter mode (CTR). In both cases the 16-byte encryption IV is chosen at random and is prepended to the ciphertext.\n",
    "\n",
    "For CBC encryption we use the PKCS5 padding scheme discussed in the lecture (14:04). While we ask that you implement both encryption and decryption, we will only test the decryption function. In the following questions you are given an AES key and a ciphertext (both are hex encoded ) and your goal is to recover the plaintext and enter it in the input boxes provided below.\n",
    "\n",
    "For an implementation of AES you may use an existing crypto library such as PyCrypto (Python), Crypto++ (C++), or any other. While it is fine to use the built-in AES functions, we ask that as a learning experience you implement CBC and CTR modes yourself."
   ]
  },
  {
   "cell_type": "markdown",
   "metadata": {},
   "source": [
    "- CBC key: 140b41b22a29beb4061bda66b6747e14\n",
    "- CBC Ciphertext 1: 4ca00ff4c898d61e1edbf1800618fb2828a226d160dad07883d04e008a7897ee2e4b7465d5290d0c0e6c6822236e1daafb94ffe0c5da05d9476be028ad7c1d81"
   ]
  },
  {
   "cell_type": "markdown",
   "metadata": {},
   "source": [
    "- CBC key: 140b41b22a29beb4061bda66b6747e14\n",
    "- CBC Ciphertext 2: 5b68629feb8606f9a6667670b75b38a5b4832d0f26e1ab7da33249de7d4afc48e713ac646ace36e872ad5fb8a512428a6e21364b0c374df45503473c5242a253"
   ]
  },
  {
   "cell_type": "markdown",
   "metadata": {},
   "source": [
    "- CTR key: 36f18357be4dbd77f050515c73fcf9f2\n",
    "- CTR Ciphertext 1: 69dda8455c7dd4254bf353b773304eec0ec7702330098ce7f7520d1cbbb20fc388d1b0adb5054dbd7370849dbf0b88d393f252e764f1f5f7ad97ef79d59ce29f5f51eeca32eabedd9afa9329"
   ]
  },
  {
   "cell_type": "markdown",
   "metadata": {},
   "source": [
    "- CTR key: 36f18357be4dbd77f050515c73fcf9f2\n",
    "- CTR Ciphertext 2: 770b80259ec33beb2561358a9f2dc617e46218c0a53cbeca695ae45faa8952aa0e311bde9d4e01726d3184c34451"
   ]
  },
  {
   "cell_type": "code",
   "execution_count": 102,
   "metadata": {},
   "outputs": [],
   "source": [
    "from Crypto.Cipher import AES\n",
    "from Crypto.Util import Counter"
   ]
  },
  {
   "cell_type": "code",
   "execution_count": 103,
   "metadata": {},
   "outputs": [],
   "source": [
    "key = ['140b41b22a29beb4061bda66b6747e14','36f18357be4dbd77f050515c73fcf9f2']\n",
    "CT = ['4ca00ff4c898d61e1edbf1800618fb2828a226d160dad07883d04e008a7897ee2e4b7465d5290d0c0e6c6822236e1daafb94ffe0c5da05d9476be028ad7c1d81'\n",
    "      ,'5b68629feb8606f9a6667670b75b38a5b4832d0f26e1ab7da33249de7d4afc48e713ac646ace36e872ad5fb8a512428a6e21364b0c374df45503473c5242a253'\n",
    "      ,'69dda8455c7dd4254bf353b773304eec0ec7702330098ce7f7520d1cbbb20fc388d1b0adb5054dbd7370849dbf0b88d393f252e764f1f5f7ad97ef79d59ce29f5f51eeca32eabedd9afa9329'\n",
    "      ,'770b80259ec33beb2561358a9f2dc617e46218c0a53cbeca695ae45faa8952aa0e311bde9d4e01726d3184c34451']"
   ]
  },
  {
   "cell_type": "code",
   "execution_count": 104,
   "metadata": {},
   "outputs": [
    {
     "name": "stdout",
     "output_type": "stream",
     "text": [
      "PT1 : b'Basic CBC mode encryption needs padding.\\x08\\x08\\x08\\x08\\x08\\x08\\x08\\x08'\n",
      "PT2 : b'Our implementation uses rand. IV\\x10\\x10\\x10\\x10\\x10\\x10\\x10\\x10\\x10\\x10\\x10\\x10\\x10\\x10\\x10\\x10'\n"
     ]
    }
   ],
   "source": [
    "for i in range(2):\n",
    "    cipher = AES.new(bytes.fromhex(key[0]) , AES.MODE_CBC , bytes.fromhex(CT[i])[:16] )\n",
    "    print('PT'+str(i+1)+' : '+ str(cipher.decrypt(bytes.fromhex(CT[i]))[16:]))"
   ]
  },
  {
   "cell_type": "code",
   "execution_count": 130,
   "metadata": {},
   "outputs": [
    {
     "name": "stdout",
     "output_type": "stream",
     "text": [
      "PT3 : b'\\x06`q\\xb4.V\\xa6n\\xd9\\xf9\\x18K\\xf8\\x9b\\xfaK\\n\\xa3\\xdf\\xc4g\\xdb&^\\x9a\\x81GDxk\\xa4\\x03\\xc0\\xe1\\xbf\\n\\xb3\\x9f\\x0f\\x04X\\x17\\xd2\\xf3\\x91\\x0c7\\n\\x9e\\xa9b\\xd8\\xc7\\x1552\\xad\\xce\\x0f\\xcd\\xbci\\xcei\\xe3\\xfe\\x96}'\n",
      "PT4 : b'\\x80oZ+CbX\\xbc\\xfbW\\x95\\xfb/\\xc1\\x84\\x05G\\x1f\\x88\\xee\\x17\\xb3:\\xb5\\x06 \\xef|\\xbd>\\x94\\xc6\\x1e2%\\x9eP\\x83'\n"
     ]
    }
   ],
   "source": [
    "for i in range(2):\n",
    "    ctr = Counter.new(128,initial_value=int(CT[i+2][:32],16) )\n",
    "    cipher = AES.new(bytes.fromhex(key[1]) , AES.MODE_CTR , counter = ctr)\n",
    "    print('PT'+str(i+3)+' : '+ str(cipher.decrypt(bytes.fromhex(CT[i+2][16:]))))"
   ]
  },
  {
   "cell_type": "code",
   "execution_count": 120,
   "metadata": {},
   "outputs": [],
   "source": [
    "int.from_bytes?"
   ]
  },
  {
   "cell_type": "code",
   "execution_count": 122,
   "metadata": {},
   "outputs": [],
   "source": [
    "a='123456789'"
   ]
  },
  {
   "cell_type": "code",
   "execution_count": 123,
   "metadata": {},
   "outputs": [
    {
     "data": {
      "text/plain": [
       "'23456789'"
      ]
     },
     "execution_count": 123,
     "metadata": {},
     "output_type": "execute_result"
    }
   ],
   "source": [
    "a[1:]"
   ]
  },
  {
   "cell_type": "code",
   "execution_count": null,
   "metadata": {},
   "outputs": [],
   "source": []
  }
 ],
 "metadata": {
  "kernelspec": {
   "display_name": "Python 3",
   "language": "python",
   "name": "python3"
  },
  "language_info": {
   "codemirror_mode": {
    "name": "ipython",
    "version": 3
   },
   "file_extension": ".py",
   "mimetype": "text/x-python",
   "name": "python",
   "nbconvert_exporter": "python",
   "pygments_lexer": "ipython3",
   "version": "3.7.3"
  }
 },
 "nbformat": 4,
 "nbformat_minor": 2
}
